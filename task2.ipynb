{
  "cells": [
    {
      "attachments": {},
      "cell_type": "markdown",
      "metadata": {},
      "source": [
        "# Биометрия, распознавание и синтез речи\n",
        "\n",
        "Проведем второй тур соревнования между естественным и искусственным интеллектом. На первом этапе Вам необходимо прослушать предложенные аудиофрагменты и выбрать верный ответ. \n",
        "\n",
        "На втором этапе в бой вступает искусственный интеллект. Он представлен двумя бойцами: модель Pocket Sphinx и Google. Вам необходимо ввести полученные после распознавания фразы."
      ]
    },
    {
      "cell_type": "code",
      "execution_count": 1,
      "metadata": {
        "id": "Vetqp0TQqonS"
      },
      "outputs": [],
      "source": [
        "!pip install -q SpeechRecognition==3.8.1\n",
        "!pip install -q pocketsphinx==5.0.0"
      ]
    },
    {
      "cell_type": "code",
      "execution_count": 2,
      "metadata": {
        "id": "F8RxfP84CpQw"
      },
      "outputs": [],
      "source": [
        "from urllib.request import urlretrieve\n",
        "\n",
        "DATA = [\n",
        "    'https://de.ifmo.ru/--openedu/dataprocessing/appliedai/audio5/77.wav',\n",
        "    'https://de.ifmo.ru/--openedu/dataprocessing/appliedai/audio5/0.wav',\n",
        "    'https://de.ifmo.ru/--openedu/dataprocessing/appliedai/audio5/59.wav',\n",
        "    'https://de.ifmo.ru/--openedu/dataprocessing/appliedai/audio5/12.wav',\n",
        "    'https://de.ifmo.ru/--openedu/dataprocessing/appliedai/audio5/78.wav',\n",
        "    'https://de.ifmo.ru/--openedu/dataprocessing/appliedai/audio5/1.wav',\n",
        "    'https://de.ifmo.ru/--openedu/dataprocessing/appliedai/audio5/70.wav'\n",
        "]\n",
        "\n",
        "for i, link in enumerate(DATA, start=1):\n",
        "    urlretrieve(link, f'{i}.wav')"
      ]
    },
    {
      "cell_type": "code",
      "execution_count": 3,
      "metadata": {
        "colab": {
          "base_uri": "https://localhost:8080/"
        },
        "id": "6SH2matOqong",
        "outputId": "b197f8c6-1be3-4b4d-c270-744797233992"
      },
      "outputs": [
        {
          "name": "stdout",
          "output_type": "stream",
          "text": [
            "1.wav: don't you hop in a shop\n",
            "2.wav: he has been refused to crying\n",
            "3.wav: he knows which way the wind is blowing\n",
            "4.wav: go home to chickens before they had show\n",
            "5.wav: don't go to all your face in one basket\n",
            "6.wav: mindanao on their heads\n",
            "7.wav: and there aren't can change his spots\n"
          ]
        }
      ],
      "source": [
        "from glob import glob\n",
        "import speech_recognition as sr\n",
        "\n",
        "for file in sorted(glob('*.wav')):\n",
        "  r = sr.Recognizer()\n",
        "  with sr.AudioFile(file) as source:\n",
        "      audio = r.record(source)\n",
        "  try:\n",
        "      print(f'{file}: {r.recognize_sphinx(audio)}')\n",
        "  except sr.UnknownValueError:\n",
        "      print(f'{file}: Sphinx could not understand audio')\n",
        "  except sr.RequestError as e:\n",
        "      print(f'{file}: Sphinx error; {e}')\n"
      ]
    }
  ],
  "metadata": {
    "colab": {
      "provenance": []
    },
    "kernelspec": {
      "display_name": "Python 3.6",
      "language": "python",
      "name": "python36"
    },
    "language_info": {
      "codemirror_mode": {
        "name": "ipython",
        "version": 3
      },
      "file_extension": ".py",
      "mimetype": "text/x-python",
      "name": "python",
      "nbconvert_exporter": "python",
      "pygments_lexer": "ipython3",
      "version": "3.6.6"
    }
  },
  "nbformat": 4,
  "nbformat_minor": 0
}
